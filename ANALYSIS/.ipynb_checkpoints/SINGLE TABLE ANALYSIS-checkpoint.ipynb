{
 "cells": [
  {
   "cell_type": "markdown",
   "metadata": {},
   "source": [
    "IN THIS SCRIPT I WILL USE THE MOVIES DATABASE TO SELECT COLUMNS AND DO ANALYSIS OF MOVIES DATA SINCE 1920.\n",
    "\n",
    "MOVIES DATABASE WAS DOWNLOADED FROM https://www.databasestar.com/sample-database-movies/ AND HAVE A LOT OF INFORMATION.\n",
    "\n",
    "IN THIS SCRIPT I WILL ONLY USE THE 'movie' TABLE TO COLLECT DATA AND DO ANALYSIS. I WILL FILTER AND TREAT THIS TABLE TO GET READY FOR ANALYSIS.\n",
    "\n",
    "I WILL FIRSTLY INVESTIGATE THE STRUCTURE OF THIS DATABASE AND AFTER SELECT TABLE AND COLUMNS TO WORK WITH.\n",
    "\n",
    "I WILL USE mysql.connector, pandas, matplotlib AND seaborn LIBRARIES TO RUN THE ANALYSIS."
   ]
  },
  {
   "cell_type": "code",
   "execution_count": 1,
   "metadata": {},
   "outputs": [],
   "source": [
    "import mysql.connector"
   ]
  },
  {
   "cell_type": "code",
   "execution_count": 2,
   "metadata": {},
   "outputs": [
    {
     "name": "stdout",
     "output_type": "stream",
     "text": [
      "You're connected to MySQL server.\n",
      "Running on version: 8.0.22\n",
      "Connected to localhost on port 3306\n",
      "User's name: root\n",
      "27\n"
     ]
    }
   ],
   "source": [
    "try:\n",
    "    connection = mysql.connector.connect(\n",
    "        host = 'localhost',\n",
    "        user = 'root',\n",
    "        password = 'sqltraining')\n",
    "    \n",
    "except mysql.connector.Error as Error:\n",
    "    print(\"Could not connect to the server. Error: {}\".format(Error))\n",
    "    \n",
    "if connection.is_connected:\n",
    "    print(\"You're connected to MySQL server.\")    \n",
    "    server_info = connection.get_server_info()\n",
    "    print(\"Running on version:\", server_info)\n",
    "    host_info = (connection.server_host, connection.server_port)\n",
    "    print(\"Connected to\", host_info[0], \"on port\", host_info[1])\n",
    "    user_info = connection.user\n",
    "    print(\"User's name:\", user_info)\n",
    "    connection_info = connection.connection_id\n",
    "    print(connection_info)\n",
    "    \n",
    "else:\n",
    "    print(\"Could not connect to the server. Error: {}\".format(Error))"
   ]
  },
  {
   "cell_type": "code",
   "execution_count": 3,
   "metadata": {},
   "outputs": [
    {
     "name": "stdout",
     "output_type": "stream",
     "text": [
      "country\n",
      "department\n",
      "gender\n",
      "genre\n",
      "keyword\n",
      "language\n",
      "language_role\n",
      "movie\n",
      "movie_cast\n",
      "movie_company\n",
      "movie_crew\n",
      "movie_genres\n",
      "movie_keywords\n",
      "movie_languages\n",
      "person\n",
      "production_company\n",
      "production_country\n"
     ]
    },
    {
     "data": {
      "text/plain": [
       "True"
      ]
     },
     "execution_count": 3,
     "metadata": {},
     "output_type": "execute_result"
    }
   ],
   "source": [
    "connection.cmd_init_db('movies')\n",
    "cursor = connection.cursor(buffered = True)\n",
    "query_tables = \"show tables\"\n",
    "cursor.execute(query_tables)\n",
    "tables_name = []\n",
    "for table in cursor:\n",
    "    print(table[0])\n",
    "    tables_name.append(table)\n",
    "cursor.close()"
   ]
  },
  {
   "cell_type": "code",
   "execution_count": null,
   "metadata": {},
   "outputs": [],
   "source": [
    "cursor = connection.cursor()\n",
    "rows_tables = []\n",
    "for name in range(len(tables_name)):\n",
    "    query = \"\"\"select count(*) from {}\"\"\".format(tables_name[name][0])\n",
    "    cursor.execute(query)\n",
    "    rows = cursor.fetchone()\n",
    "    rows_tables.append(rows)\n",
    "print(rows_tables)\n",
    "cursor.close()"
   ]
  },
  {
   "cell_type": "code",
   "execution_count": null,
   "metadata": {
    "scrolled": true
   },
   "outputs": [],
   "source": [
    "table_name_row = []\n",
    "for i in range(len(rows_tables)):\n",
    "    table_name_row.append((tables_name[i][0], rows_tables[i][0]))\n",
    "\n",
    "print(table_name_row)"
   ]
  },
  {
   "cell_type": "markdown",
   "metadata": {},
   "source": [
    "SELECTING SPECIFIC COLUMNS OF TABLE 'movie' TO PERFORM INITIAL ANALYSIS"
   ]
  },
  {
   "cell_type": "code",
   "execution_count": null,
   "metadata": {},
   "outputs": [],
   "source": [
    "cursor = connection.cursor(buffered = True)\n",
    "query_columns = \"\"\"SHOW COLUMNS FROM movie\"\"\"\n",
    "cursor.execute(query_columns)\n",
    "for column in cursor:\n",
    "    print(column[0])\n",
    "cursor.close()"
   ]
  },
  {
   "cell_type": "code",
   "execution_count": null,
   "metadata": {},
   "outputs": [],
   "source": [
    "cursor = connection.cursor()\n",
    "query_select = \"\"\"SELECT movie_id, title, budget, popularity, release_date, revenue, vote_average, vote_count FROM movie\"\"\"\n",
    "cursor.execute(query_select)\n",
    "filtered = cursor.fetchall()\n",
    "#print(filtered)\n",
    "cursor.close()"
   ]
  },
  {
   "cell_type": "markdown",
   "metadata": {},
   "source": [
    "IMPORT PANDAS LIBRARY AND EXPORT QUERY FROM MySQL TO CREATE PANDAS DATAFRAME FOR ANALYSIS."
   ]
  },
  {
   "cell_type": "code",
   "execution_count": null,
   "metadata": {},
   "outputs": [],
   "source": [
    "import pandas as pd\n",
    "import matplotlib.pyplot as plt\n",
    "from matplotlib.figure import Figure\n",
    "import seaborn as sns"
   ]
  },
  {
   "cell_type": "code",
   "execution_count": null,
   "metadata": {},
   "outputs": [],
   "source": [
    "df = pd.read_sql(\"\"\"SELECT \n",
    "movie_id, title, budget, popularity, release_date, revenue, vote_average, vote_count \n",
    "FROM movie\"\"\", connection, index_col= 'movie_id')\n",
    "display(df)"
   ]
  },
  {
   "cell_type": "markdown",
   "metadata": {},
   "source": [
    "INSPECTING DATAFRAME (DATA TREATMENT).\n",
    "\n",
    "TRANSFORM ZERO VALUES TO 'NA' AND REMOVE ROWS WITH MISSING INFORMATION.\n",
    "\n",
    "SPLIT DATETIME FORMAT TO DISPLAY ONLY THE YEAR OF RELEASE.\n",
    "\n",
    "ROUND VALUES.\n",
    "\n",
    "TRANSFORM TYPES OF OBJECTS."
   ]
  },
  {
   "cell_type": "code",
   "execution_count": null,
   "metadata": {},
   "outputs": [],
   "source": [
    "df = df[df != 0].dropna()"
   ]
  },
  {
   "cell_type": "code",
   "execution_count": null,
   "metadata": {},
   "outputs": [],
   "source": [
    "df.info()"
   ]
  },
  {
   "cell_type": "code",
   "execution_count": null,
   "metadata": {},
   "outputs": [],
   "source": [
    "df['year'] = pd.DatetimeIndex(df['release_date']).year"
   ]
  },
  {
   "cell_type": "code",
   "execution_count": null,
   "metadata": {},
   "outputs": [],
   "source": [
    "df = df.drop(['release_date', 'popularity'], axis = 1)\n",
    "#df = df.round({'popularity': 2})"
   ]
  },
  {
   "cell_type": "code",
   "execution_count": null,
   "metadata": {},
   "outputs": [],
   "source": [
    "print(df['year'].min())\n",
    "print(df['year'].max())"
   ]
  },
  {
   "cell_type": "code",
   "execution_count": null,
   "metadata": {},
   "outputs": [],
   "source": [
    "df[['budget', 'revenue', 'vote_count']] = df[['budget', 'revenue', 'vote_count']].astype(int)"
   ]
  },
  {
   "cell_type": "code",
   "execution_count": null,
   "metadata": {},
   "outputs": [],
   "source": [
    "df.info()\n",
    "df.columns"
   ]
  },
  {
   "cell_type": "markdown",
   "metadata": {},
   "source": [
    "CREATING CATEGORICAL DATA FROM CONTINUOUS VARIABLES.\n",
    "\n",
    "ORGANIZE RELEASE YEAR WITHIN DECADES TO BETTER VISUALIZE TENDENCIES.\n",
    "\n",
    "TRANSFORM 'vote_average' INTO CLASSES OF QUALITY (RUIM, MEDIANO, BOM, OTIMO)."
   ]
  },
  {
   "cell_type": "code",
   "execution_count": null,
   "metadata": {},
   "outputs": [],
   "source": [
    "decade = pd.cut(df.year,bins=[1915,1930,1940,1950,1960,1970,1980,1990,2000,2010,2020], labels = ['1', '2', '3', '4', '5', '6','7','8','9','10'])\n",
    "df['decade'] = decade\n",
    "df['decade'] = df['decade'].astype(int)\n",
    "\n",
    "vote_class = pd.cut(df.vote_average,bins=[0,4,6,8,10], labels = ['Ruim', 'Mediano', 'Bom', 'Ótimo'])\n",
    "df.insert(4, column = 'vote_class', value =vote_class)\n",
    "df"
   ]
  },
  {
   "cell_type": "code",
   "execution_count": null,
   "metadata": {},
   "outputs": [],
   "source": [
    "df.sort_values(by=['year'])"
   ]
  },
  {
   "cell_type": "markdown",
   "metadata": {},
   "source": [
    "EXPLORATORY ANALYSIS.\n",
    "\n",
    "AN OVERALL VIEW OF PAIRWISE COMPARISONS."
   ]
  },
  {
   "cell_type": "code",
   "execution_count": null,
   "metadata": {},
   "outputs": [],
   "source": [
    "fig = sns.pairplot(df)\n",
    "fig.fig.set_size_inches(6,6)"
   ]
  },
  {
   "cell_type": "markdown",
   "metadata": {},
   "source": [
    "A LITTLE CONFUSED, BUT APPARENTLY THERE IS A MOVIE THAT GAVE NEGATIVE REVENUE. THIS MAY BE A MISTAKE ON CREATING DATASET.\n",
    "\n",
    "SELECT WHICH ROW HAVE NEGATIVE VALUES ON 'revenue' COLUMN. IT SEEMS AN ERROR, SO I CONSIDER THE ABSOLUTE VALUE FOR THIS ROW."
   ]
  },
  {
   "cell_type": "code",
   "execution_count": null,
   "metadata": {},
   "outputs": [],
   "source": [
    "df[df['revenue'] < 0]"
   ]
  },
  {
   "cell_type": "code",
   "execution_count": null,
   "metadata": {},
   "outputs": [],
   "source": [
    "df['revenue'] = df['revenue'].apply(abs)"
   ]
  },
  {
   "cell_type": "markdown",
   "metadata": {},
   "source": [
    "NOW LET'S SEPARATE THE ANALYSIS. FIRST BASED ON YEAR OF RELEASE.\n",
    "\n",
    "ARE THERE ANY RELATION BETWEEN YEAR OF RELEASE AND AVERAGE NOTE?\n",
    "\n",
    "MOST RECENT FILMS HAS A BIGGER BUDGET THAN OLDER ONES?\n",
    "\n",
    "DO THE VOTE COUNT INCREASES AS NEWER THE MOVIE ARE?"
   ]
  },
  {
   "cell_type": "code",
   "execution_count": null,
   "metadata": {},
   "outputs": [],
   "source": [
    "sns.relplot(x='year', y='revenue', data = df,ci = 'sd', kind = 'line')"
   ]
  },
  {
   "cell_type": "code",
   "execution_count": null,
   "metadata": {
    "scrolled": true
   },
   "outputs": [],
   "source": [
    "sns.relplot(x='year', y='vote_average', data = df,ci = 'sd', kind = 'line')"
   ]
  },
  {
   "cell_type": "code",
   "execution_count": null,
   "metadata": {
    "scrolled": true
   },
   "outputs": [],
   "source": [
    "sns.relplot(x='year', y='budget', data = df,ci = 'sd', kind = 'line')"
   ]
  },
  {
   "cell_type": "code",
   "execution_count": null,
   "metadata": {},
   "outputs": [],
   "source": [
    "sns.relplot(x='year', y='vote_count', data = df,ci = 'sd', kind = 'line')"
   ]
  },
  {
   "cell_type": "markdown",
   "metadata": {},
   "source": [
    "DO THE AVERAGE NOTE OF A MOVIE CORRESPOND TO BUDGET DISPENDED?\n",
    "\n",
    "DO THE AVERAGE NOTE DECREASES AS THE VOTE COUNT INCREASES?"
   ]
  },
  {
   "cell_type": "code",
   "execution_count": null,
   "metadata": {},
   "outputs": [],
   "source": [
    "ax = sns.relplot(x = 'vote_average', y = 'budget', hue = 'decade', data = df)"
   ]
  },
  {
   "cell_type": "code",
   "execution_count": null,
   "metadata": {},
   "outputs": [],
   "source": [
    "ax = sns.relplot(x = 'vote_average', y = 'vote_count', hue = 'decade', data = df)"
   ]
  },
  {
   "cell_type": "markdown",
   "metadata": {},
   "source": [
    "TO BETTER VISUALIZATION, WE CAN TRANSFORM CONTINUOUS VALUES IN CATEGORICAL DATA. I DID IT TO 'vote_average' AND TO 'year' COLUMNS.\n",
    "\n",
    "IS THERE ANY RELANTIONSHIP BETWEEN PERIODS OF BETTER MOVIES PRODUCED?"
   ]
  },
  {
   "cell_type": "markdown",
   "metadata": {},
   "source": [
    "CONSIDERING ALL THE MOVIES PRODUCED WITHIN A DECADE.\n",
    "\n",
    "IT SEEMS THAT ON AVERAGE, NEWER MOVIES ARE LESS RANKED THAN OLD ONES, BUT THAT COULD BE AN EFFECT OF QUANTITIES OF MOVIES PRODUCED."
   ]
  },
  {
   "cell_type": "code",
   "execution_count": null,
   "metadata": {
    "scrolled": true
   },
   "outputs": [],
   "source": [
    "ax = sns.histplot(x = 'decade', hue = \"vote_class\", multiple = 'dodge', data = df, discrete = True)"
   ]
  },
  {
   "cell_type": "code",
   "execution_count": null,
   "metadata": {},
   "outputs": [],
   "source": [
    "df_newer = df[df['decade'] >=5]\n",
    "ax = sns.histplot(x = df_newer.decade, hue = \"vote_class\", multiple = 'dodge', data = df, discrete = True)\n",
    "ax.set_xticklabels([\"\",\"60s\",\"70s\", \"80s\", \"90s\", \"00s\", \"10s\"])"
   ]
  },
  {
   "cell_type": "code",
   "execution_count": null,
   "metadata": {
    "scrolled": false
   },
   "outputs": [],
   "source": [
    "df_older = df[df['decade'] < 5]\n",
    "ax = sns.histplot(x = df_older.decade, hue = \"vote_class\", multiple = 'dodge', data = df, discrete = True)\n",
    "ax.set_xticklabels([\"\", \"\",\"20s\", \"\",\"30s\",\"\", \"40s\",\"\", \"50s\"])"
   ]
  },
  {
   "cell_type": "markdown",
   "metadata": {},
   "source": [
    "SINCE NUMBER OF MOVIES BY DECADE ARE TOO DIFFERENT, I FIRSTLY SPLIT DATA FOR VISUALIZATION. \n",
    "\n",
    "ANOTHER WAY TO OBSERVE THIS DATA AND QUALITY OF MOVIES IS MAKING IT TO PERCENTAGE AS SHOWED BELOW."
   ]
  },
  {
   "cell_type": "code",
   "execution_count": null,
   "metadata": {},
   "outputs": [],
   "source": [
    "for i in range(1,11):\n",
    "    total = df[df['decade'] == i]['vote_class'].count()\n",
    "    print(total)"
   ]
  },
  {
   "cell_type": "code",
   "execution_count": null,
   "metadata": {},
   "outputs": [],
   "source": [
    "for i in range(1,11):\n",
    "    count = df[df['decade'] == i].groupby('vote_class')['vote_class'].count()\n",
    "    total = df[df['decade'] == i]['vote_class'].count()\n",
    "    freq = round(count/total, 2)\n",
    "    print('Decade class: {}'.format(i))\n",
    "    print(freq)"
   ]
  },
  {
   "cell_type": "markdown",
   "metadata": {},
   "source": [
    "IS THERE ANY RELATIONSHIP BETWEEN BUDGET AND QUALITY OF MOVIE?"
   ]
  },
  {
   "cell_type": "code",
   "execution_count": null,
   "metadata": {
    "scrolled": true
   },
   "outputs": [],
   "source": [
    "fig, (axes) = plt.subplots(1, 4, figsize = (20, 5))\n",
    "sns.barplot(ax = axes[0], x = \"vote_class\", y= \"budget\", data = df)\n",
    "axes[0].set_title(\"Vote Class/Budget\")\n",
    "sns.barplot(ax = axes[1], x = 'decade', y = 'budget', data = df)\n",
    "axes[1].set_title(\"Decade Release/Budget\")\n",
    "axes[1].set_xticklabels(['20s','30s','40s','50s','60s','70s','80s','90s','00s','10s'], rotation = 45)\n",
    "sns.barplot(ax = axes[2], x = 'decade', y = 'revenue', data = df)\n",
    "axes[2].set_title(\"Decade Release/Revenue\")\n",
    "axes[2].set_xticklabels(['20s','30s','40s','50s','60s','70s','80s','90s','00s','10s'], rotation = 45)\n",
    "sns.barplot(ax = axes[3], x = \"vote_class\", y= \"revenue\", data = df)\n",
    "axes[3].set_title(\"Vote Class/Revenue\")\n",
    "plt.show()"
   ]
  },
  {
   "cell_type": "code",
   "execution_count": null,
   "metadata": {},
   "outputs": [],
   "source": [
    "sns.boxplot(x = \"decade\", y = \"vote_average\", data = df)"
   ]
  },
  {
   "cell_type": "markdown",
   "metadata": {},
   "source": [
    "AS EXPECTED, MOST RECENT MOVIES HAD IN GENERAL HIGHER BUDGET, REVENUE AND VOTE COUNTS. WE COULD EXPECT IT BECAUSE MORE PEOPLE HAVE ACCESS TO THE MOVIES AND CINEMA.\n",
    "\n",
    "WE ALSO SAW AN HIGHLY INCREASED IN QUANTITIES OF MOVIES PRODUCED IN MOST RECENT YEARS, ESPECIALLY AFTER THE 90s.\n",
    "\n",
    "IN A OVERALL VIEW, WE OBSERVE A DECREASE IN AVERAGE RATING VALUES. OLDER MOVIES HAD ON AVERAGE HIGHER NOTES. IT COULD BE A CONSEQUENCE OF MUCH HIGHER NUMBER OF MOVIES PRODUCED RECENTLY AND WITH IT SOME BAD MOVIES APPEAR MORE FREQUENTLY.\n",
    "\n",
    "WHEN WE ANALYSED THE BUDGET OF A MOVIE WITH THE CLASS OF RATING WE CAN SEE THAT THE BEST RANKING MOVIES DID NOT DISPEND HIGHEST BUDGETS. IN FACT, MEDIAN MOVIES ARE THE MOST COSTLY.\n",
    "\n",
    "WE ALSO SAW THAT BEST RANKED LATEST MOVIES HAVE GREAT REVENUE. \n",
    "\n",
    "ON THE '30s', THERE IS A PEAK OF REVENUE. WE CAN ALSO SEE THAT THIS PERIODS REPRESENTS THE MOVIES WITH HIGHER AVERAGE RATINGS."
   ]
  }
 ],
 "metadata": {
  "kernelspec": {
   "display_name": "Python 3",
   "language": "python",
   "name": "python3"
  },
  "language_info": {
   "codemirror_mode": {
    "name": "ipython",
    "version": 3
   },
   "file_extension": ".py",
   "mimetype": "text/x-python",
   "name": "python",
   "nbconvert_exporter": "python",
   "pygments_lexer": "ipython3",
   "version": "3.8.5"
  }
 },
 "nbformat": 4,
 "nbformat_minor": 4
}
