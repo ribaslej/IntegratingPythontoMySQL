{
 "cells": [
  {
   "cell_type": "code",
   "execution_count": 1,
   "metadata": {},
   "outputs": [],
   "source": [
    "import mysql.connector\n",
    "from mysql.connector import Error\n",
    "import pandas as pd\n",
    "import seaborn as sns\n",
    "import matplotlib.pyplot as plt"
   ]
  },
  {
   "cell_type": "code",
   "execution_count": 2,
   "metadata": {},
   "outputs": [
    {
     "name": "stdout",
     "output_type": "stream",
     "text": [
      "You're connected to MySQL server.\n",
      "Running on version: 8.0.22\n",
      "Connected to localhost on port 3306\n",
      "User's name: root\n",
      "34\n"
     ]
    }
   ],
   "source": [
    "try:\n",
    "    connection = mysql.connector.connect(\n",
    "        host = 'localhost',\n",
    "        user = 'root',\n",
    "        password = 'sqltraining', consume_results = True)\n",
    "    \n",
    "except mysql.connector.Error as Error:\n",
    "    print(\"Could not connect to the server. Error: {}\".format(Error))\n",
    "    \n",
    "if connection.is_connected:\n",
    "    print(\"You're connected to MySQL server.\")    \n",
    "    server_info = connection.get_server_info()\n",
    "    print(\"Running on version:\", server_info)\n",
    "    host_info = (connection.server_host, connection.server_port)\n",
    "    print(\"Connected to\", host_info[0], \"on port\", host_info[1])\n",
    "    user_info = connection.user\n",
    "    print(\"User's name:\", user_info)\n",
    "    connection_info = connection.connection_id\n",
    "    print(connection_info)\n",
    "    \n",
    "else:\n",
    "    print(\"Could not connect to the server. Error: {}\".format(Error))"
   ]
  },
  {
   "cell_type": "code",
   "execution_count": 3,
   "metadata": {},
   "outputs": [
    {
     "name": "stdout",
     "output_type": "stream",
     "text": [
      "country\n",
      "department\n",
      "gender\n",
      "genre\n",
      "keyword\n",
      "language\n",
      "language_role\n",
      "movie\n",
      "movie_cast\n",
      "movie_company\n",
      "movie_crew\n",
      "movie_genres\n",
      "movie_keywords\n",
      "movie_languages\n",
      "person\n",
      "production_company\n",
      "production_country\n"
     ]
    },
    {
     "data": {
      "text/plain": [
       "True"
      ]
     },
     "execution_count": 3,
     "metadata": {},
     "output_type": "execute_result"
    }
   ],
   "source": [
    "connection.cmd_init_db('movies')\n",
    "cursor = connection.cursor(buffered = True)\n",
    "query_tables = \"show tables\"\n",
    "cursor.execute(query_tables)\n",
    "tables_name = []\n",
    "for table in cursor:\n",
    "    print(table[0])\n",
    "    tables_name.append(table)\n",
    "cursor.close()"
   ]
  },
  {
   "cell_type": "code",
   "execution_count": null,
   "metadata": {},
   "outputs": [],
   "source": [
    "cursor = connection.cursor()\n",
    "query_columns = \"SHOW COLUMNS FROM movie_cast\"\n",
    "cursor.execute(query_columns)\n",
    "columns = cursor.fetchall()\n",
    "print(columns)"
   ]
  },
  {
   "cell_type": "code",
   "execution_count": null,
   "metadata": {},
   "outputs": [],
   "source": [
    "query_select = \"SELECT gender_id FROM movie_cast\"\n",
    "cursor.execute(query_select)\n",
    "select = cursor.fetchall()\n",
    "print(select)\n",
    "len(select)"
   ]
  },
  {
   "cell_type": "code",
   "execution_count": null,
   "metadata": {},
   "outputs": [],
   "source": [
    "cursor = connection.cursor()\n",
    "query_columns = \"SHOW COLUMNS FROM movie_cast\"\n",
    "cursor.execute(query_columns)\n",
    "columns = cursor.fetchall()\n",
    "print(columns)"
   ]
  },
  {
   "cell_type": "code",
   "execution_count": null,
   "metadata": {},
   "outputs": [],
   "source": [
    "query_select = \"SELECT keyword_name FROM keyword\"\n",
    "cursor.execute(query_select)\n",
    "select = cursor.fetchall()\n",
    "print(select)"
   ]
  },
  {
   "cell_type": "code",
   "execution_count": null,
   "metadata": {},
   "outputs": [],
   "source": [
    "cursor = connection.cursor()\n",
    "query_select = \"\"\"SELECT m.title, m.budget, m.release_date, m.revenue, m.vote_average, m.vote_count, g.gender, c.country_iso_code, cat.genre_name, p.person_name\n",
    "FROM movie as m, gender as g, country as c, genre as cat, person as p, movie_cast as mc, movie_genres as mg, production_country as pc \n",
    "WHERE m.movie_id = mc.movie_id AND m.movie_id = mg.movie_id AND m.movie_id = pc.movie_id\"\"\"\n",
    "cursor.execute(query_select)\n",
    "result = cursor.fetchall()\n",
    "print(result)"
   ]
  },
  {
   "cell_type": "code",
   "execution_count": null,
   "metadata": {},
   "outputs": [],
   "source": [
    "df = pd.read_sql(\"\"\"SELECT m.movie_id, m.title, m.budget, m.release_date, m.revenue, m.vote_average, m.vote_count, g.gender, c.country_iso_code, cat.genre_name, p.person_name\n",
    "FROM movie as m, gender as g, country as c, genre as cat, person as p, movie_cast as mc, movie_genres as mg, production_country as pc \n",
    "WHERE m.movie_id = mc.movie_id AND m.movie_id = mg.movie_id AND m.movie_id = pc.movie_id\"\"\", connection, index_col = 'movie_id')"
   ]
  },
  {
   "cell_type": "code",
   "execution_count": null,
   "metadata": {},
   "outputs": [],
   "source": [
    "df = pd.read_sql(\"\"\"SELECT m.movie_id, m.title, m.release_date, m.revenue, m.vote_average, c.country_iso_code, cat.genre_name\n",
    "FROM movie as m, country as c, genre as cat, movie_cast as mc, movie_genres as mg, production_country as pc \n",
    "WHERE m.movie_id = mc.movie_id AND m.movie_id = mg.movie_id AND m.movie_id = pc.movie_id GROUP BY m.movie_id LIMIT 1000\"\"\", connection, index_col = 'movie_id')"
   ]
  },
  {
   "cell_type": "code",
   "execution_count": null,
   "metadata": {},
   "outputs": [],
   "source": [
    "df2 = pd.read_sql(\"\"\"SELECT m.movie_id, m.title, m.release_date, m.revenue, m.vote_average, c.country_iso_code\n",
    "FROM movie as m, production_country as pc, country as c \n",
    "WHERE m.movie_id = pc.movie_id GROUP BY m.movie_id\"\"\", connection, index_col = 'movie_id')"
   ]
  },
  {
   "cell_type": "code",
   "execution_count": 4,
   "metadata": {},
   "outputs": [],
   "source": [
    "df3 = pd.read_sql(\"\"\"SELECT m.movie_id, m.title, m.release_date, m.revenue, m.vote_average, cat.genre_name\n",
    "                    FROM movie as m, genre as cat, movie_genres as mg\n",
    "                    WHERE m.movie_id = mg.movie_id AND cat.genre_id = mg.genre_id\"\"\", connection, index_col = 'movie_id')"
   ]
  },
  {
   "cell_type": "markdown",
   "metadata": {},
   "source": [
    "ATE AQUI IMPORTANDO BEM, AGORA EXCLUIR OS DUPLICADOS"
   ]
  },
  {
   "cell_type": "code",
   "execution_count": null,
   "metadata": {
    "scrolled": true
   },
   "outputs": [],
   "source": [
    "df3.drop_duplicates(subset = ['title'], keep = 'last')"
   ]
  },
  {
   "cell_type": "code",
   "execution_count": 9,
   "metadata": {},
   "outputs": [
    {
     "data": {
      "text/html": [
       "<div>\n",
       "<style scoped>\n",
       "    .dataframe tbody tr th:only-of-type {\n",
       "        vertical-align: middle;\n",
       "    }\n",
       "\n",
       "    .dataframe tbody tr th {\n",
       "        vertical-align: top;\n",
       "    }\n",
       "\n",
       "    .dataframe thead th {\n",
       "        text-align: right;\n",
       "    }\n",
       "</style>\n",
       "<table border=\"1\" class=\"dataframe\">\n",
       "  <thead>\n",
       "    <tr style=\"text-align: right;\">\n",
       "      <th></th>\n",
       "      <th>title</th>\n",
       "      <th>release_date</th>\n",
       "      <th>revenue</th>\n",
       "      <th>vote_average</th>\n",
       "      <th>genre_name</th>\n",
       "    </tr>\n",
       "    <tr>\n",
       "      <th>movie_id</th>\n",
       "      <th></th>\n",
       "      <th></th>\n",
       "      <th></th>\n",
       "      <th></th>\n",
       "      <th></th>\n",
       "    </tr>\n",
       "  </thead>\n",
       "  <tbody>\n",
       "    <tr>\n",
       "      <th>301325</th>\n",
       "      <td>#Horror</td>\n",
       "      <td>2015-11-20</td>\n",
       "      <td>0</td>\n",
       "      <td>3.3</td>\n",
       "      <td>Horror</td>\n",
       "    </tr>\n",
       "    <tr>\n",
       "      <th>301325</th>\n",
       "      <td>#Horror</td>\n",
       "      <td>2015-11-20</td>\n",
       "      <td>0</td>\n",
       "      <td>3.3</td>\n",
       "      <td>Mystery</td>\n",
       "    </tr>\n",
       "    <tr>\n",
       "      <th>301325</th>\n",
       "      <td>#Horror</td>\n",
       "      <td>2015-11-20</td>\n",
       "      <td>0</td>\n",
       "      <td>3.3</td>\n",
       "      <td>Drama</td>\n",
       "    </tr>\n",
       "    <tr>\n",
       "      <th>301325</th>\n",
       "      <td>#Horror</td>\n",
       "      <td>2015-11-20</td>\n",
       "      <td>0</td>\n",
       "      <td>3.3</td>\n",
       "      <td>Thriller</td>\n",
       "    </tr>\n",
       "    <tr>\n",
       "      <th>119458</th>\n",
       "      <td>$upercapitalist</td>\n",
       "      <td>2012-08-10</td>\n",
       "      <td>0</td>\n",
       "      <td>3.5</td>\n",
       "      <td>Thriller</td>\n",
       "    </tr>\n",
       "    <tr>\n",
       "      <th>...</th>\n",
       "      <td>...</td>\n",
       "      <td>...</td>\n",
       "      <td>...</td>\n",
       "      <td>...</td>\n",
       "      <td>...</td>\n",
       "    </tr>\n",
       "    <tr>\n",
       "      <th>11658</th>\n",
       "      <td>태극기 휘날리며</td>\n",
       "      <td>2004-02-05</td>\n",
       "      <td>15</td>\n",
       "      <td>7.4</td>\n",
       "      <td>War</td>\n",
       "    </tr>\n",
       "    <tr>\n",
       "      <th>33196</th>\n",
       "      <td>해운대</td>\n",
       "      <td>2009-06-06</td>\n",
       "      <td>11301649</td>\n",
       "      <td>6.5</td>\n",
       "      <td>Thriller</td>\n",
       "    </tr>\n",
       "    <tr>\n",
       "      <th>33196</th>\n",
       "      <td>해운대</td>\n",
       "      <td>2009-06-06</td>\n",
       "      <td>11301649</td>\n",
       "      <td>6.5</td>\n",
       "      <td>Adventure</td>\n",
       "    </tr>\n",
       "    <tr>\n",
       "      <th>33196</th>\n",
       "      <td>해운대</td>\n",
       "      <td>2009-06-06</td>\n",
       "      <td>11301649</td>\n",
       "      <td>6.5</td>\n",
       "      <td>Action</td>\n",
       "    </tr>\n",
       "    <tr>\n",
       "      <th>33196</th>\n",
       "      <td>해운대</td>\n",
       "      <td>2009-06-06</td>\n",
       "      <td>11301649</td>\n",
       "      <td>6.5</td>\n",
       "      <td>Drama</td>\n",
       "    </tr>\n",
       "  </tbody>\n",
       "</table>\n",
       "<p>12160 rows × 5 columns</p>\n",
       "</div>"
      ],
      "text/plain": [
       "                    title release_date   revenue  vote_average genre_name\n",
       "movie_id                                                                 \n",
       "301325            #Horror   2015-11-20         0           3.3     Horror\n",
       "301325            #Horror   2015-11-20         0           3.3    Mystery\n",
       "301325            #Horror   2015-11-20         0           3.3      Drama\n",
       "301325            #Horror   2015-11-20         0           3.3   Thriller\n",
       "119458    $upercapitalist   2012-08-10         0           3.5   Thriller\n",
       "...                   ...          ...       ...           ...        ...\n",
       "11658            태극기 휘날리며   2004-02-05        15           7.4        War\n",
       "33196                 해운대   2009-06-06  11301649           6.5   Thriller\n",
       "33196                 해운대   2009-06-06  11301649           6.5  Adventure\n",
       "33196                 해운대   2009-06-06  11301649           6.5     Action\n",
       "33196                 해운대   2009-06-06  11301649           6.5      Drama\n",
       "\n",
       "[12160 rows x 5 columns]"
      ]
     },
     "execution_count": 9,
     "metadata": {},
     "output_type": "execute_result"
    }
   ],
   "source": [
    "df3.sort_values(by = ['title'])"
   ]
  },
  {
   "cell_type": "code",
   "execution_count": null,
   "metadata": {},
   "outputs": [],
   "source": [
    "df2"
   ]
  },
  {
   "cell_type": "code",
   "execution_count": null,
   "metadata": {},
   "outputs": [],
   "source": [
    "df_concat = pd.concat([df2, df3], axis = 1)"
   ]
  },
  {
   "cell_type": "code",
   "execution_count": null,
   "metadata": {},
   "outputs": [],
   "source": [
    "df_concat"
   ]
  },
  {
   "cell_type": "code",
   "execution_count": null,
   "metadata": {},
   "outputs": [],
   "source": [
    "df_concat = df_concat.loc[:,~df_concat.columns.duplicated()]"
   ]
  },
  {
   "cell_type": "code",
   "execution_count": null,
   "metadata": {},
   "outputs": [],
   "source": [
    "df_concat.info()"
   ]
  },
  {
   "cell_type": "code",
   "execution_count": null,
   "metadata": {},
   "outputs": [],
   "source": [
    "df_concat = df_concat[df_concat != 0].dropna()"
   ]
  },
  {
   "cell_type": "code",
   "execution_count": null,
   "metadata": {},
   "outputs": [],
   "source": [
    "df_concat.info()"
   ]
  },
  {
   "cell_type": "code",
   "execution_count": null,
   "metadata": {},
   "outputs": [],
   "source": [
    "df_concat['year'] = pd.DatetimeIndex(df_concat['release_date']).year"
   ]
  },
  {
   "cell_type": "code",
   "execution_count": null,
   "metadata": {},
   "outputs": [],
   "source": [
    "df_concat = df_concat.drop('release_date', axis = 1)"
   ]
  },
  {
   "cell_type": "code",
   "execution_count": null,
   "metadata": {},
   "outputs": [],
   "source": [
    "df_concat"
   ]
  },
  {
   "cell_type": "code",
   "execution_count": null,
   "metadata": {},
   "outputs": [],
   "source": [
    "df_concat[df_concat['genre_name'].levels()"
   ]
  },
  {
   "cell_type": "code",
   "execution_count": null,
   "metadata": {},
   "outputs": [],
   "source": [
    "df_concat[df_concat['genre_name'] != 'Adventure']"
   ]
  },
  {
   "cell_type": "code",
   "execution_count": null,
   "metadata": {},
   "outputs": [],
   "source": []
  }
 ],
 "metadata": {
  "kernelspec": {
   "display_name": "Python 3",
   "language": "python",
   "name": "python3"
  },
  "language_info": {
   "codemirror_mode": {
    "name": "ipython",
    "version": 3
   },
   "file_extension": ".py",
   "mimetype": "text/x-python",
   "name": "python",
   "nbconvert_exporter": "python",
   "pygments_lexer": "ipython3",
   "version": "3.8.5"
  }
 },
 "nbformat": 4,
 "nbformat_minor": 4
}
