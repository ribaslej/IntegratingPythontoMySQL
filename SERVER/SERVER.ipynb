{
 "cells": [
  {
   "cell_type": "markdown",
   "metadata": {},
   "source": [
    "THIS FIRST SCHEMA IS A TRAINING ON HOW TO CONNECT TO A MYSQL LOCAL SERVER. \n",
    "\n",
    "WE RETRIEVE SOME CHARACTERISTICS OF THE SERVER. THE RUNNING VERSION, USERS AND DATABASES PRESENTS.\n",
    "\n",
    "WE EXPLORE ADDITION OF NEW USERS, ENCODE PASSWORD AND GIVE PRIVILEGES TO USERS. WE ALSO DELETE SPECIFIC USERS.\n",
    "\n",
    "TO SWITCH BETWEEN USERS, CLOSE THE CONNECTION (CONNECTION.CLOSE()) AND CONNECT WITH NEW USERS CREATED.\n",
    "\n",
    "WE CONNECT TO 'world' DATABASE THAT WILL BE USED TO THE DEMONSTRATION OF SELECTING METHODS.\n",
    "\n",
    "WE USE THE mysql.connector LIBRARY TO ACHIEVE THIS RESULTS."
   ]
  },
  {
   "cell_type": "code",
   "execution_count": 1,
   "metadata": {},
   "outputs": [],
   "source": [
    "import mysql.connector"
   ]
  },
  {
   "cell_type": "markdown",
   "metadata": {},
   "source": [
    "CONNECTING TO SERVER AND GETTING INFOS."
   ]
  },
  {
   "cell_type": "code",
   "execution_count": 6,
   "metadata": {},
   "outputs": [
    {
     "name": "stdout",
     "output_type": "stream",
     "text": [
      "You're connected to MySQL server.\n",
      "Running on version: 8.0.22\n",
      "Connected to localhost on port 3306\n",
      "User's name: root\n",
      "24\n"
     ]
    }
   ],
   "source": [
    "try:\n",
    "    connection = mysql.connector.connect(\n",
    "        host = \"localhost\",\n",
    "        user = \"root\",\n",
    "        password = \"sqltraining\")\n",
    "    \n",
    "except Error:\n",
    "    print(\"Could not connect to the server. Error: {}\".format(Error))\n",
    "    \n",
    "if connection.is_connected():\n",
    "    print(\"You're connected to MySQL server.\")    \n",
    "    server_info = connection.get_server_info()\n",
    "    print(\"Running on version:\", server_info)\n",
    "    host_info = (connection.server_host, connection.server_port)\n",
    "    print(\"Connected to\", host_info[0], \"on port\", host_info[1])\n",
    "    user_info = connection.user\n",
    "    print(\"User's name:\", user_info)\n",
    "    connection_info = connection.connection_id\n",
    "    print(connection_info)"
   ]
  },
  {
   "cell_type": "markdown",
   "metadata": {},
   "source": [
    "INSPECTING USERS REGISTERED TO ACCESS SERVER"
   ]
  },
  {
   "cell_type": "code",
   "execution_count": 3,
   "metadata": {},
   "outputs": [
    {
     "name": "stdout",
     "output_type": "stream",
     "text": [
      "('localhost', 'mysql.infoschema', 'caching_sha2_password', b'$A$005$THISISACOMBINATIONOFINVALIDSALTANDPASSWORDTHATMUSTNEVERBRBEUSED')\n",
      "('localhost', 'mysql.session', 'caching_sha2_password', b'$A$005$THISISACOMBINATIONOFINVALIDSALTANDPASSWORDTHATMUSTNEVERBRBEUSED')\n",
      "('localhost', 'mysql.sys', 'caching_sha2_password', b'$A$005$THISISACOMBINATIONOFINVALIDSALTANDPASSWORDTHATMUSTNEVERBRBEUSED')\n",
      "('localhost', 'root', 'caching_sha2_password', b'$A$005$c:d5G\\x1a^HCI\\x03Hv\\x04#\\x03U*\\x13B7CggwPBoCQoOEMdmclo/BXArHIgl4N4Rr1GAAKI.l9D')\n",
      "('localhost', 'user1', 'caching_sha2_password', b'$A$005$ \\x0c)&Adc:#,^\\x1fW5_M\\x15S=LJN2yv4NXJToFK/5v7FmhHzQm8/lrQRZ4o0kQAAL7ceD')\n",
      "('localhost', 'user2', 'caching_sha2_password', b'$A$005$f\\x03BP?t\\x0b\\x06\\x15\\x19\\x04(p980\\x02a\"hFwVngUl3T/lOtv963TVTauDxz6c8lbdFXfpSF1a0pp/')\n",
      "('localhost', 'user3', 'caching_sha2_password', b\"$A$005$<\\x16\\x12T)\\x04\\x0cO\\x18|f+'oD\\x13}\\x15j4NHSDWBMfUnmAg/iiBZjYHdwUj0JDKNYn2vZyNh5XsqD\")\n"
     ]
    },
    {
     "data": {
      "text/plain": [
       "True"
      ]
     },
     "execution_count": 3,
     "metadata": {},
     "output_type": "execute_result"
    }
   ],
   "source": [
    "cursor = connection.cursor()\n",
    "query_users = \"select host, user, plugin, authentication_string from mysql.user\"\n",
    "cursor.execute(query_users)\n",
    "get_users = cursor.fetchall()\n",
    "for i in range(len(get_users)):\n",
    "     print(get_users[i])\n",
    "\n",
    "cursor.close()\n"
   ]
  },
  {
   "cell_type": "markdown",
   "metadata": {},
   "source": [
    "CREATING NEW USERS TO ACCESS SERVER. ENCODE PASSWORD WITH sha2 cryptography."
   ]
  },
  {
   "cell_type": "code",
   "execution_count": 9,
   "metadata": {},
   "outputs": [
    {
     "data": {
      "text/plain": [
       "True"
      ]
     },
     "execution_count": 9,
     "metadata": {},
     "output_type": "execute_result"
    }
   ],
   "source": [
    "cursor = connection.cursor(dictionary = True)\n",
    "add_users = \"create user %s@'localhost' identified with caching_sha2_password by %s\"\n",
    "inputs = [('user1', 'password1'), ('user2', 'password2'), ('user3', 'password3')]\n",
    "cursor.executemany(add_users, inputs)\n",
    "cursor.close()"
   ]
  },
  {
   "cell_type": "markdown",
   "metadata": {},
   "source": [
    "VERIFY NEW USERS ADDED TO CATALOG."
   ]
  },
  {
   "cell_type": "code",
   "execution_count": 11,
   "metadata": {},
   "outputs": [
    {
     "name": "stdout",
     "output_type": "stream",
     "text": [
      "[('localhost', 'mysql.infoschema', 'caching_sha2_password', b'$A$005$THISISACOMBINATIONOFINVALIDSALTANDPASSWORDTHATMUSTNEVERBRBEUSED'), ('localhost', 'mysql.session', 'caching_sha2_password', b'$A$005$THISISACOMBINATIONOFINVALIDSALTANDPASSWORDTHATMUSTNEVERBRBEUSED'), ('localhost', 'mysql.sys', 'caching_sha2_password', b'$A$005$THISISACOMBINATIONOFINVALIDSALTANDPASSWORDTHATMUSTNEVERBRBEUSED'), ('localhost', 'root', 'caching_sha2_password', b'$A$005$c:d5G\\x1a^HCI\\x03Hv\\x04#\\x03U*\\x13B7CggwPBoCQoOEMdmclo/BXArHIgl4N4Rr1GAAKI.l9D'), ('localhost', 'user1', 'caching_sha2_password', b'$A$005$t\\x0e@\\x0eFa6(\\x10p:\\x072>!/\\r6\\x19\\x0bjZg1lI03qWwuCk1/KetNJNdiN9odrpogxqVsneSCFY4'), ('localhost', 'user2', 'caching_sha2_password', b'$A$005$\\\\k\\x1e\\\\M\\x0erI\\x04\\t\\x07pG\\x1d\\x7f%T5F\\x102HY6bl3DasiAFkA66ZhWAmZ4DWJPpUq4JHXd1alxU4.'), ('localhost', 'user3', 'caching_sha2_password', b'$A$005$<U)\\x14.n0Z`vxI8Jf (PZABJPHXCgRDbiuEvD1KhafLwRJA51iXb0lO5lIDYslXoC')]\n"
     ]
    },
    {
     "data": {
      "text/plain": [
       "True"
      ]
     },
     "execution_count": 11,
     "metadata": {},
     "output_type": "execute_result"
    }
   ],
   "source": [
    "cursor = connection.cursor()\n",
    "query_users = \"select host, user, plugin, authentication_string from mysql.user\"\n",
    "cursor.execute(query_users)\n",
    "get_users = cursor.fetchall()\n",
    "print(get_users)\n",
    "cursor.close()"
   ]
  },
  {
   "cell_type": "markdown",
   "metadata": {},
   "source": [
    "SHOW PRIVILEGES TO USE SERVER FROM CURRENT USER"
   ]
  },
  {
   "cell_type": "code",
   "execution_count": 12,
   "metadata": {},
   "outputs": [
    {
     "name": "stdout",
     "output_type": "stream",
     "text": [
      "[('GRANT SELECT, INSERT, UPDATE, DELETE, CREATE, DROP, RELOAD, SHUTDOWN, PROCESS, FILE, REFERENCES, INDEX, ALTER, SHOW DATABASES, SUPER, CREATE TEMPORARY TABLES, LOCK TABLES, EXECUTE, REPLICATION SLAVE, REPLICATION CLIENT, CREATE VIEW, SHOW VIEW, CREATE ROUTINE, ALTER ROUTINE, CREATE USER, EVENT, TRIGGER, CREATE TABLESPACE, CREATE ROLE, DROP ROLE ON *.* TO `root`@`localhost` WITH GRANT OPTION',), ('GRANT APPLICATION_PASSWORD_ADMIN,AUDIT_ADMIN,BACKUP_ADMIN,BINLOG_ADMIN,BINLOG_ENCRYPTION_ADMIN,CLONE_ADMIN,CONNECTION_ADMIN,ENCRYPTION_KEY_ADMIN,GROUP_REPLICATION_ADMIN,INNODB_REDO_LOG_ARCHIVE,INNODB_REDO_LOG_ENABLE,PERSIST_RO_VARIABLES_ADMIN,REPLICATION_APPLIER,REPLICATION_SLAVE_ADMIN,RESOURCE_GROUP_ADMIN,RESOURCE_GROUP_USER,ROLE_ADMIN,SERVICE_CONNECTION_ADMIN,SESSION_VARIABLES_ADMIN,SET_USER_ID,SHOW_ROUTINE,SYSTEM_USER,SYSTEM_VARIABLES_ADMIN,TABLE_ENCRYPTION_ADMIN,XA_RECOVER_ADMIN ON *.* TO `root`@`localhost` WITH GRANT OPTION',), (\"GRANT PROXY ON ''@'' TO 'root'@'localhost' WITH GRANT OPTION\",)]\n"
     ]
    }
   ],
   "source": [
    "cursor = connection.cursor()\n",
    "show_grants = \"show grants\"\n",
    "cursor.execute(show_grants)\n",
    "get_grants = cursor.fetchall()\n",
    "print(get_grants)"
   ]
  },
  {
   "cell_type": "markdown",
   "metadata": {},
   "source": [
    "SHOW PRIVILEGES TO USE SERVER FROM SPECIFIC USER."
   ]
  },
  {
   "cell_type": "code",
   "execution_count": 13,
   "metadata": {},
   "outputs": [
    {
     "name": "stdout",
     "output_type": "stream",
     "text": [
      "[('GRANT USAGE ON *.* TO `user3`@`localhost`',)]\n"
     ]
    }
   ],
   "source": [
    "cursor = connection.cursor()\n",
    "show_grants = \"show grants for 'user3'@'localhost'\"\n",
    "cursor.execute(show_grants)\n",
    "get_grants = cursor.fetchall()\n",
    "print(get_grants)"
   ]
  },
  {
   "cell_type": "markdown",
   "metadata": {},
   "source": [
    "MODIFY PRIVILEGES OF USERS."
   ]
  },
  {
   "cell_type": "code",
   "execution_count": 14,
   "metadata": {},
   "outputs": [
    {
     "name": "stdout",
     "output_type": "stream",
     "text": [
      "[]\n"
     ]
    }
   ],
   "source": [
    "cursor = connection.cursor()\n",
    "give_grants = \"GRANT ALL PRIVILEGES ON *.* TO 'user1'@'localhost'\"\n",
    "cursor.execute(give_grants)\n",
    "get_grants = cursor.fetchall()\n",
    "print(get_grants)"
   ]
  },
  {
   "cell_type": "code",
   "execution_count": 15,
   "metadata": {},
   "outputs": [
    {
     "name": "stdout",
     "output_type": "stream",
     "text": [
      "[]\n"
     ]
    }
   ],
   "source": [
    "cursor = connection.cursor()\n",
    "give_grants = \"GRANT SELECT ON *.* TO 'user3'@'localhost'\"\n",
    "cursor.execute(give_grants)\n",
    "get_grants = cursor.fetchall()\n",
    "print(get_grants)"
   ]
  },
  {
   "cell_type": "markdown",
   "metadata": {},
   "source": [
    "DELETE USERS FROM CATALOG."
   ]
  },
  {
   "cell_type": "code",
   "execution_count": 8,
   "metadata": {},
   "outputs": [
    {
     "name": "stdout",
     "output_type": "stream",
     "text": [
      "[('localhost', 'mysql.infoschema', 'caching_sha2_password', b'$A$005$THISISACOMBINATIONOFINVALIDSALTANDPASSWORDTHATMUSTNEVERBRBEUSED'), ('localhost', 'mysql.session', 'caching_sha2_password', b'$A$005$THISISACOMBINATIONOFINVALIDSALTANDPASSWORDTHATMUSTNEVERBRBEUSED'), ('localhost', 'mysql.sys', 'caching_sha2_password', b'$A$005$THISISACOMBINATIONOFINVALIDSALTANDPASSWORDTHATMUSTNEVERBRBEUSED'), ('localhost', 'root', 'caching_sha2_password', b'$A$005$c:d5G\\x1a^HCI\\x03Hv\\x04#\\x03U*\\x13B7CggwPBoCQoOEMdmclo/BXArHIgl4N4Rr1GAAKI.l9D')]\n"
     ]
    },
    {
     "data": {
      "text/plain": [
       "True"
      ]
     },
     "execution_count": 8,
     "metadata": {},
     "output_type": "execute_result"
    }
   ],
   "source": [
    "cursor = connection.cursor()\n",
    "query_drop_users = \"drop user 'user3'@'localhost'\"\n",
    "cursor.execute(query_drop_users)\n",
    "query_users = \"select host, user, plugin, authentication_string from mysql.user\"\n",
    "cursor.execute(query_users)\n",
    "get_users = cursor.fetchall()\n",
    "print(get_users)\n",
    "cursor.close()"
   ]
  },
  {
   "cell_type": "markdown",
   "metadata": {},
   "source": [
    "CHANGE USER OPERATING THE SERVER."
   ]
  },
  {
   "cell_type": "code",
   "execution_count": 16,
   "metadata": {},
   "outputs": [
    {
     "name": "stdout",
     "output_type": "stream",
     "text": [
      "[('user1@localhost',)]\n"
     ]
    }
   ],
   "source": [
    "connection.config(user='user1', password = 'password1')\n",
    "connection.reconnect()\n",
    "cursor = connection.cursor()\n",
    "query_current_user = \"select current_user\"\n",
    "cursor.execute(query_current_user)\n",
    "get_current_user = cursor.fetchall()\n",
    "print(get_current_user)"
   ]
  },
  {
   "cell_type": "markdown",
   "metadata": {},
   "source": [
    "INSPECTING DATABASES PRESENT ON THE SERVER"
   ]
  },
  {
   "cell_type": "code",
   "execution_count": 17,
   "metadata": {},
   "outputs": [
    {
     "name": "stdout",
     "output_type": "stream",
     "text": [
      "You're connected to MySQL server.\n",
      "Running on version: 8.0.22\n",
      "Connected to localhost on port 3306\n",
      "User's name: root\n"
     ]
    }
   ],
   "source": [
    "try:\n",
    "    connection = mysql.connector.connect(\n",
    "        host = \"localhost\",\n",
    "        user = \"root\",\n",
    "        password = \"sqltraining\")\n",
    "    \n",
    "except Error:\n",
    "    print(\"Could not connect to the server. Error: {}\".format(Error))\n",
    "    \n",
    "if connection.is_connected():\n",
    "    print(\"You're connected to MySQL server.\")    \n",
    "    server_version = connection.get_server_info()\n",
    "    print(\"Running on version:\", server_version)\n",
    "    host_info = (connection.server_host, connection.server_port)\n",
    "    print(\"Connected to\", host_info[0], \"on port\", host_info[1])\n",
    "    user_info = connection.user\n",
    "    print(\"User's name:\", user_info)"
   ]
  },
  {
   "cell_type": "code",
   "execution_count": 18,
   "metadata": {},
   "outputs": [
    {
     "name": "stdout",
     "output_type": "stream",
     "text": [
      "Found 15 in this server:\n",
      "0 curso_sql\n",
      "1 db_devmedia\n",
      "2 dbfinanceiro\n",
      "3 dbvendas\n",
      "4 electronics\n",
      "5 employees\n",
      "6 exercicios\n",
      "7 exercicios_v2\n",
      "8 information_schema\n",
      "9 movies\n",
      "10 mysql\n",
      "11 performance_schema\n",
      "12 sakila\n",
      "13 sys\n",
      "14 world\n"
     ]
    },
    {
     "data": {
      "text/plain": [
       "True"
      ]
     },
     "execution_count": 18,
     "metadata": {},
     "output_type": "execute_result"
    }
   ],
   "source": [
    "cursor = connection.cursor()\n",
    "cursor.execute(\"SHOW DATABASES\")\n",
    "databases = cursor.fetchall()\n",
    "print(\"Found {} in this server:\".format(len(databases)))\n",
    "list_db = []\n",
    "idx_db = []\n",
    "complete_list_db = []\n",
    "for db in range(len(databases)):\n",
    "    list_db.append(databases[db][0])\n",
    "    idx_db.append(db)\n",
    "    complete_list_db.append((idx_db[db], databases[db][0]))\n",
    "\n",
    "for idx in range(len(list_db)):\n",
    "    print(idx_db[idx], list_db[idx])\n",
    "\n",
    "cursor.close()"
   ]
  },
  {
   "cell_type": "markdown",
   "metadata": {},
   "source": [
    "INSPECTING SPECIFIC DATABASE. CHANGE BETWEEN DATABASES TO WORK WITH"
   ]
  },
  {
   "cell_type": "code",
   "execution_count": 19,
   "metadata": {},
   "outputs": [
    {
     "name": "stdout",
     "output_type": "stream",
     "text": [
      "city\n",
      "country\n",
      "countrylanguage\n",
      "departamento\n",
      "funcionarios\n"
     ]
    },
    {
     "data": {
      "text/plain": [
       "True"
      ]
     },
     "execution_count": 19,
     "metadata": {},
     "output_type": "execute_result"
    }
   ],
   "source": [
    "connection.cmd_init_db('world')\n",
    "query_tables = \"show tables\"\n",
    "cursor = connection.cursor(buffered=True)\n",
    "cursor.execute(query_tables)\n",
    "for table in cursor:\n",
    "    print(table[0])\n",
    "cursor.close()"
   ]
  },
  {
   "cell_type": "markdown",
   "metadata": {},
   "source": [
    "DESCRIBING SPECIFIC TABLE WITHIN DATABASE."
   ]
  },
  {
   "cell_type": "code",
   "execution_count": 20,
   "metadata": {},
   "outputs": [
    {
     "name": "stdout",
     "output_type": "stream",
     "text": [
      "[('ID', b'int', 'NO', 'PRI', None, 'auto_increment'), ('Name', b'char(35)', 'NO', '', b'', ''), ('CountryCode', b'char(3)', 'NO', 'MUL', b'', ''), ('District', b'char(20)', 'NO', '', b'', ''), ('Population', b'int', 'NO', '', b'0', '')]\n"
     ]
    },
    {
     "data": {
      "text/plain": [
       "True"
      ]
     },
     "execution_count": 20,
     "metadata": {},
     "output_type": "execute_result"
    }
   ],
   "source": [
    "cursor = connection.cursor()\n",
    "query_describe = \"describe city\"\n",
    "cursor.execute(query_describe)\n",
    "describe_table = cursor.fetchall()\n",
    "print(describe_table)\n",
    "cursor.close()"
   ]
  },
  {
   "cell_type": "markdown",
   "metadata": {},
   "source": [
    "OR"
   ]
  },
  {
   "cell_type": "code",
   "execution_count": 21,
   "metadata": {},
   "outputs": [
    {
     "name": "stdout",
     "output_type": "stream",
     "text": [
      "[('ID', b'int', 'NO', 'PRI', None, 'auto_increment'), ('Name', b'char(35)', 'NO', '', b'', ''), ('CountryCode', b'char(3)', 'NO', 'MUL', b'', ''), ('District', b'char(20)', 'NO', '', b'', ''), ('Population', b'int', 'NO', '', b'0', '')]\n"
     ]
    },
    {
     "data": {
      "text/plain": [
       "True"
      ]
     },
     "execution_count": 21,
     "metadata": {},
     "output_type": "execute_result"
    }
   ],
   "source": [
    "cursor = connection.cursor()\n",
    "query_show_columns = \"show columns from city\"\n",
    "cursor.execute(query_show_columns)\n",
    "show_columns = cursor.fetchall()\n",
    "print(show_columns)\n",
    "cursor.close()"
   ]
  },
  {
   "cell_type": "markdown",
   "metadata": {},
   "source": [
    "SHOW ONLY THE COLUMNS NAMES."
   ]
  },
  {
   "cell_type": "code",
   "execution_count": 22,
   "metadata": {},
   "outputs": [
    {
     "name": "stdout",
     "output_type": "stream",
     "text": [
      "Number of Columns: 5\n",
      "ID\n",
      "Name\n",
      "CountryCode\n",
      "District\n",
      "Population\n"
     ]
    },
    {
     "data": {
      "text/plain": [
       "True"
      ]
     },
     "execution_count": 22,
     "metadata": {},
     "output_type": "execute_result"
    }
   ],
   "source": [
    "cursor = connection.cursor()\n",
    "query_show_columns = \"\"\"show columns from city\"\"\"\n",
    "cursor.execute(query_show_columns)\n",
    "show_columns = cursor.fetchall()\n",
    "print(\"Number of Columns:\", len(show_columns))\n",
    "for name in show_columns:\n",
    "    print(name[0])\n",
    "cursor.close()"
   ]
  },
  {
   "cell_type": "code",
   "execution_count": null,
   "metadata": {},
   "outputs": [],
   "source": []
  }
 ],
 "metadata": {
  "kernelspec": {
   "display_name": "Python 3",
   "language": "python",
   "name": "python3"
  },
  "language_info": {
   "codemirror_mode": {
    "name": "ipython",
    "version": 3
   },
   "file_extension": ".py",
   "mimetype": "text/x-python",
   "name": "python",
   "nbconvert_exporter": "python",
   "pygments_lexer": "ipython3",
   "version": "3.8.5"
  }
 },
 "nbformat": 4,
 "nbformat_minor": 4
}
