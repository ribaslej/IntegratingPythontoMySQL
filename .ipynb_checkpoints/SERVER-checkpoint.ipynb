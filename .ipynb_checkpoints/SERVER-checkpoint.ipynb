{
 "cells": [
  {
   "cell_type": "markdown",
   "metadata": {},
   "source": [
    "This first schema is a training on how to connect to a MySQL local server. We retrieve some characteristics of the server. The running version, users and databases presents.\n",
    "\n",
    "We explore addition of new users, encode password and give privileges to users. We also delete specific users.\n",
    "\n",
    "To switch between users, close the connection (connection.close()) and connect with new users created.\n",
    "\n",
    "We connect to 'sakila' database that will be used to the demonstration of selecting methods.\n",
    "\n",
    "We use the mysql.connector library to achieve this results."
   ]
  },
  {
   "cell_type": "code",
   "execution_count": 1,
   "metadata": {},
   "outputs": [],
   "source": [
    "import mysql.connector"
   ]
  },
  {
   "cell_type": "markdown",
   "metadata": {},
   "source": [
    "Connecting to server and "
   ]
  },
  {
   "cell_type": "code",
   "execution_count": 2,
   "metadata": {},
   "outputs": [
    {
     "name": "stdout",
     "output_type": "stream",
     "text": [
      "You're connected to MySQL server.\n",
      "Running on version: 8.0.22\n",
      "Connected to localhost on port 3306\n",
      "User's name: root\n",
      "116\n"
     ]
    }
   ],
   "source": [
    "try:\n",
    "    connection = mysql.connector.connect(\n",
    "        host = \"localhost\",\n",
    "        user = \"root\",\n",
    "        password = \"sqltraining\")\n",
    "    \n",
    "except Error:\n",
    "    print(\"Could not connect to the server. Error: {}\".format(Error))\n",
    "    \n",
    "if connection.is_connected():\n",
    "    print(\"You're connected to MySQL server.\")    \n",
    "    server_info = connection.get_server_info()\n",
    "    print(\"Running on version:\", server_info)\n",
    "    host_info = (connection.server_host, connection.server_port)\n",
    "    print(\"Connected to\", host_info[0], \"on port\", host_info[1])\n",
    "    user_info = connection.user\n",
    "    print(\"User's name:\", user_info)\n",
    "    connection_info = connection.connection_id\n",
    "    print(connection_info)"
   ]
  },
  {
   "cell_type": "markdown",
   "metadata": {},
   "source": [
    "Inspecting users registered to access server"
   ]
  },
  {
   "cell_type": "code",
   "execution_count": 3,
   "metadata": {},
   "outputs": [
    {
     "name": "stdout",
     "output_type": "stream",
     "text": [
      "('localhost', 'mysql.infoschema', 'caching_sha2_password', b'$A$005$THISISACOMBINATIONOFINVALIDSALTANDPASSWORDTHATMUSTNEVERBRBEUSED')\n",
      "('localhost', 'mysql.session', 'caching_sha2_password', b'$A$005$THISISACOMBINATIONOFINVALIDSALTANDPASSWORDTHATMUSTNEVERBRBEUSED')\n",
      "('localhost', 'mysql.sys', 'caching_sha2_password', b'$A$005$THISISACOMBINATIONOFINVALIDSALTANDPASSWORDTHATMUSTNEVERBRBEUSED')\n",
      "('localhost', 'root', 'caching_sha2_password', b'$A$005$c:d5G\\x1a^HCI\\x03Hv\\x04#\\x03U*\\x13B7CggwPBoCQoOEMdmclo/BXArHIgl4N4Rr1GAAKI.l9D')\n",
      "('localhost', 'user1', 'caching_sha2_password', b'$A$005$ \\x0c)&Adc:#,^\\x1fW5_M\\x15S=LJN2yv4NXJToFK/5v7FmhHzQm8/lrQRZ4o0kQAAL7ceD')\n",
      "('localhost', 'user2', 'caching_sha2_password', b'$A$005$f\\x03BP?t\\x0b\\x06\\x15\\x19\\x04(p980\\x02a\"hFwVngUl3T/lOtv963TVTauDxz6c8lbdFXfpSF1a0pp/')\n",
      "('localhost', 'user3', 'caching_sha2_password', b\"$A$005$<\\x16\\x12T)\\x04\\x0cO\\x18|f+'oD\\x13}\\x15j4NHSDWBMfUnmAg/iiBZjYHdwUj0JDKNYn2vZyNh5XsqD\")\n"
     ]
    },
    {
     "data": {
      "text/plain": [
       "True"
      ]
     },
     "execution_count": 3,
     "metadata": {},
     "output_type": "execute_result"
    }
   ],
   "source": [
    "cursor = connection.cursor()\n",
    "query_users = \"select host, user, plugin, authentication_string from mysql.user\"\n",
    "cursor.execute(query_users)\n",
    "get_users = cursor.fetchall()\n",
    "for i in range(len(get_users)):\n",
    "     print(get_users[i])\n",
    "\n",
    "cursor.close()\n"
   ]
  },
  {
   "cell_type": "markdown",
   "metadata": {},
   "source": [
    "Creating new users to access server. Encode password with sha2 cryptographic method."
   ]
  },
  {
   "cell_type": "code",
   "execution_count": null,
   "metadata": {},
   "outputs": [],
   "source": [
    "cursor = connection.cursor(dictionary = True)\n",
    "add_users = \"create user %s@'localhost' identified with caching_sha2_password by %s\"\n",
    "inputs = [('user1', 'password1'), ('user2', 'password2'), ('user3', 'password3')]\n",
    "cursor.executemany(add_users, inputs)\n",
    "cursor.close()"
   ]
  },
  {
   "cell_type": "code",
   "execution_count": null,
   "metadata": {},
   "outputs": [],
   "source": [
    "Verify news users added to catalog."
   ]
  },
  {
   "cell_type": "code",
   "execution_count": null,
   "metadata": {},
   "outputs": [],
   "source": [
    "cursor = connection.cursor()\n",
    "query_users = \"select host, user, plugin, authentication_string from mysql.user\"\n",
    "cursor.execute(query_users)\n",
    "get_users = cursor.fetchall()\n",
    "print(get_users)\n",
    "cursor.close()"
   ]
  },
  {
   "cell_type": "markdown",
   "metadata": {},
   "source": [
    "Show privileges to use server from current user"
   ]
  },
  {
   "cell_type": "code",
   "execution_count": 4,
   "metadata": {},
   "outputs": [
    {
     "name": "stdout",
     "output_type": "stream",
     "text": [
      "[('GRANT SELECT, INSERT, UPDATE, DELETE, CREATE, DROP, RELOAD, SHUTDOWN, PROCESS, FILE, REFERENCES, INDEX, ALTER, SHOW DATABASES, SUPER, CREATE TEMPORARY TABLES, LOCK TABLES, EXECUTE, REPLICATION SLAVE, REPLICATION CLIENT, CREATE VIEW, SHOW VIEW, CREATE ROUTINE, ALTER ROUTINE, CREATE USER, EVENT, TRIGGER, CREATE TABLESPACE, CREATE ROLE, DROP ROLE ON *.* TO `root`@`localhost` WITH GRANT OPTION',), ('GRANT APPLICATION_PASSWORD_ADMIN,AUDIT_ADMIN,BACKUP_ADMIN,BINLOG_ADMIN,BINLOG_ENCRYPTION_ADMIN,CLONE_ADMIN,CONNECTION_ADMIN,ENCRYPTION_KEY_ADMIN,GROUP_REPLICATION_ADMIN,INNODB_REDO_LOG_ARCHIVE,INNODB_REDO_LOG_ENABLE,PERSIST_RO_VARIABLES_ADMIN,REPLICATION_APPLIER,REPLICATION_SLAVE_ADMIN,RESOURCE_GROUP_ADMIN,RESOURCE_GROUP_USER,ROLE_ADMIN,SERVICE_CONNECTION_ADMIN,SESSION_VARIABLES_ADMIN,SET_USER_ID,SHOW_ROUTINE,SYSTEM_USER,SYSTEM_VARIABLES_ADMIN,TABLE_ENCRYPTION_ADMIN,XA_RECOVER_ADMIN ON *.* TO `root`@`localhost` WITH GRANT OPTION',), (\"GRANT PROXY ON ''@'' TO 'root'@'localhost' WITH GRANT OPTION\",)]\n"
     ]
    }
   ],
   "source": [
    "cursor = connection.cursor()\n",
    "show_grants = \"show grants\"\n",
    "cursor.execute(show_grants)\n",
    "get_grants = cursor.fetchall()\n",
    "print(get_grants)"
   ]
  },
  {
   "cell_type": "markdown",
   "metadata": {},
   "source": [
    "Show privileges to use server from specific user."
   ]
  },
  {
   "cell_type": "code",
   "execution_count": 8,
   "metadata": {},
   "outputs": [
    {
     "name": "stdout",
     "output_type": "stream",
     "text": [
      "[('GRANT SELECT ON *.* TO `user3`@`localhost`',)]\n"
     ]
    }
   ],
   "source": [
    "cursor = connection.cursor()\n",
    "show_grants = \"show grants for 'user3'@'localhost'\"\n",
    "cursor.execute(show_grants)\n",
    "get_grants = cursor.fetchall()\n",
    "print(get_grants)"
   ]
  },
  {
   "cell_type": "markdown",
   "metadata": {},
   "source": [
    "Modify privileges to new users."
   ]
  },
  {
   "cell_type": "code",
   "execution_count": null,
   "metadata": {},
   "outputs": [],
   "source": [
    "cursor = connection.cursor()\n",
    "give_grants = \"GRANT ALL PRIVILEGES ON *.* TO 'user1'@'localhost'\"\n",
    "cursor.execute(give_grants)\n",
    "get_grants = cursor.fetchall()\n",
    "print(get_grants)"
   ]
  },
  {
   "cell_type": "code",
   "execution_count": null,
   "metadata": {},
   "outputs": [],
   "source": [
    "cursor = connection.cursor()\n",
    "give_grants = \"GRANT SELECT ON *.* TO 'user3'@'localhost'\"\n",
    "cursor.execute(give_grants)\n",
    "get_grants = cursor.fetchall()\n",
    "print(get_grants)"
   ]
  },
  {
   "cell_type": "markdown",
   "metadata": {},
   "source": [
    "Delete users from catalog."
   ]
  },
  {
   "cell_type": "code",
   "execution_count": null,
   "metadata": {},
   "outputs": [],
   "source": [
    "cursor = connection.cursor()\n",
    "query_drop_users = \"drop user 'user1'@'localhost'\"\n",
    "cursor.execute(query_drop_users)\n",
    "query_users = \"select host, user, plugin, authentication_string from mysql.user\"\n",
    "cursor.execute(query_users)\n",
    "get_users = cursor.fetchall()\n",
    "print(get_users)\n",
    "cursor.close()\n",
    "connection.close()"
   ]
  },
  {
   "cell_type": "markdown",
   "metadata": {},
   "source": [
    "Change user operating server."
   ]
  },
  {
   "cell_type": "code",
   "execution_count": null,
   "metadata": {},
   "outputs": [],
   "source": [
    "connection.config(user='user1', password = 'password1')\n",
    "connection.reconnect()\n",
    "cursor = connection.cursor()\n",
    "query_current_user = \"select current_user\"\n",
    "cursor.execute(query_current_user)\n",
    "get_current_user = cursor.fetchall()\n",
    "print(get_current_user)"
   ]
  },
  {
   "cell_type": "markdown",
   "metadata": {},
   "source": [
    "Inspecting databases present on the server"
   ]
  },
  {
   "cell_type": "code",
   "execution_count": null,
   "metadata": {},
   "outputs": [],
   "source": [
    "try:\n",
    "    connection = mysql.connector.connect(\n",
    "        host = \"localhost\",\n",
    "        user = \"root\",\n",
    "        password = \"sqltraining\")\n",
    "    \n",
    "except Error:\n",
    "    print(\"Could not connect to the server. Error: {}\".format(Error))\n",
    "    \n",
    "if connection.is_connected():\n",
    "    print(\"You're connected to MySQL server.\")    \n",
    "    server_version = connection.get_server_info()\n",
    "    print(\"Running on version:\", server_version)\n",
    "    host_info = (connection.server_host, connection.server_port)\n",
    "    print(\"Connected to\", host_info[0], \"on port\", host_info[1])\n",
    "    user_info = connection.user\n",
    "    print(\"User's name:\", user_info)"
   ]
  },
  {
   "cell_type": "code",
   "execution_count": null,
   "metadata": {},
   "outputs": [],
   "source": [
    "cursor = connection.cursor()\n",
    "cursor.execute(\"SHOW DATABASES\")\n",
    "databases = cursor.fetchall()\n",
    "print(\"Found {} in this server:\".format(len(databases)))\n",
    "list_db = []\n",
    "idx_db = []\n",
    "complete_list_db = []\n",
    "for db in range(len(databases)):\n",
    "    list_db.append(databases[db][0])\n",
    "    idx_db.append(db)\n",
    "    complete_list_db.append((idx_db[db], databases[db][0]))\n",
    "\n",
    "for idx in range(len(list_db)):\n",
    "    print(idx_db[idx], list_db[idx])\n",
    "\n",
    "cursor.close()"
   ]
  },
  {
   "cell_type": "markdown",
   "metadata": {},
   "source": [
    "Inspecting specific database. Change between databases to work with."
   ]
  },
  {
   "cell_type": "code",
   "execution_count": null,
   "metadata": {},
   "outputs": [],
   "source": [
    "connection.cmd_init_db('world')\n",
    "query_tables = \"show tables\"\n",
    "cursor = connection.cursor(buffered=True)\n",
    "cursor.execute(query_tables)\n",
    "for table in cursor:\n",
    "    print(table[0])\n",
    "cursor.close()"
   ]
  },
  {
   "cell_type": "markdown",
   "metadata": {},
   "source": [
    "Describing specific table within database."
   ]
  },
  {
   "cell_type": "code",
   "execution_count": null,
   "metadata": {},
   "outputs": [],
   "source": [
    "cursor = connection.cursor()\n",
    "query_describe = \"describe city\"\n",
    "cursor.execute(query_describe)\n",
    "describe_table = cursor.fetchall()\n",
    "print(describe_table)\n",
    "cursor.close()"
   ]
  },
  {
   "cell_type": "markdown",
   "metadata": {},
   "source": [
    "OR"
   ]
  },
  {
   "cell_type": "code",
   "execution_count": null,
   "metadata": {},
   "outputs": [],
   "source": [
    "cursor = connection.cursor()\n",
    "query_show_columns = \"show columns from city\"\n",
    "cursor.execute(query_show_columns)\n",
    "show_columns = cursor.fetchall()\n",
    "print(show_columns)\n",
    "cursor.close()"
   ]
  },
  {
   "cell_type": "markdown",
   "metadata": {},
   "source": [
    "Show only the columns names."
   ]
  },
  {
   "cell_type": "code",
   "execution_count": null,
   "metadata": {},
   "outputs": [],
   "source": [
    "cursor = connection.cursor()\n",
    "query_show_columns = \"\"\"show columns from city\"\"\"\n",
    "cursor.execute(query_show_columns)\n",
    "show_columns = cursor.fetchall()\n",
    "print(\"Number of Columns:\", len(show_columns))\n",
    "for name in show_columns:\n",
    "    print(name[0])\n",
    "cursor.close()"
   ]
  }
 ],
 "metadata": {
  "kernelspec": {
   "display_name": "Python 3",
   "language": "python",
   "name": "python3"
  },
  "language_info": {
   "codemirror_mode": {
    "name": "ipython",
    "version": 3
   },
   "file_extension": ".py",
   "mimetype": "text/x-python",
   "name": "python",
   "nbconvert_exporter": "python",
   "pygments_lexer": "ipython3",
   "version": "3.8.5"
  }
 },
 "nbformat": 4,
 "nbformat_minor": 4
}
