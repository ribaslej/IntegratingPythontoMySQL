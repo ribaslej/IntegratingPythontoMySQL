{
 "cells": [
  {
   "cell_type": "markdown",
   "metadata": {},
   "source": [
    "SELECTING STATEMENTS JOINING TWO OR MORE TABLES OF MySQL DATABASE.\n",
    "\n",
    "IN THESE CASE I JOINED MOVIES AND CATEGORIES USING THE 'movie_genre' INTERMEDIARY"
   ]
  },
  {
   "cell_type": "code",
   "execution_count": null,
   "metadata": {},
   "outputs": [],
   "source": [
    "import pandas as pd"
   ]
  },
  {
   "cell_type": "code",
   "execution_count": null,
   "metadata": {},
   "outputs": [],
   "source": [
    "df = pd.read_sql(\"\"\"SELECT m.movie_id,m.title, m.budget, m.popularity, \n",
    "                    m.vote_average, m.vote_count, m.release_date, g.genre_name \n",
    "                FROM movie as m, movie_genres as mg, genre as g \n",
    "                WHERE mg.genre_id = g.genre_id \n",
    "                AND mg.movie_id = m.movie_id\n",
    "                GROUP BY m.movie_id;\"\"\", connection, index_col= 'movie_id')\n",
    "display(df)"
   ]
  }
 ],
 "metadata": {
  "kernelspec": {
   "display_name": "Python 3",
   "language": "python",
   "name": "python3"
  },
  "language_info": {
   "codemirror_mode": {
    "name": "ipython",
    "version": 3
   },
   "file_extension": ".py",
   "mimetype": "text/x-python",
   "name": "python",
   "nbconvert_exporter": "python",
   "pygments_lexer": "ipython3",
   "version": "3.8.5"
  }
 },
 "nbformat": 4,
 "nbformat_minor": 4
}
